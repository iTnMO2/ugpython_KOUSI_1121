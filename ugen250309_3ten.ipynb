{
  "nbformat": 4,
  "nbformat_minor": 0,
  "metadata": {
    "colab": {
      "provenance": [],
      "authorship_tag": "ABX9TyO8HWuOQikOkBh+Tfx1Fyui",
      "include_colab_link": true
    },
    "kernelspec": {
      "name": "python3",
      "display_name": "Python 3"
    },
    "language_info": {
      "name": "python"
    }
  },
  "cells": [
    {
      "cell_type": "markdown",
      "metadata": {
        "id": "view-in-github",
        "colab_type": "text"
      },
      "source": [
        "<a href=\"https://colab.research.google.com/github/iTnMO2/ugpython_KOUSI_1121/blob/main/ugen250309_3ten.ipynb\" target=\"_parent\"><img src=\"https://colab.research.google.com/assets/colab-badge.svg\" alt=\"Open In Colab\"/></a>"
      ]
    },
    {
      "cell_type": "code",
      "execution_count": 17,
      "metadata": {
        "colab": {
          "base_uri": "https://localhost:8080/",
          "height": 555
        },
        "id": "vXiryQK-1JAO",
        "outputId": "8670eb75-517b-41cb-b72f-c815a4dba900"
      },
      "outputs": [
        {
          "output_type": "display_data",
          "data": {
            "text/plain": [
              "Eq(y, 2*x/3 + 1)"
            ],
            "text/latex": "$\\displaystyle y = \\frac{2 x}{3} + 1$"
          },
          "metadata": {}
        },
        {
          "output_type": "display_data",
          "data": {
            "text/plain": [
              "Eq(y, 77/16 - 5*x/8)"
            ],
            "text/latex": "$\\displaystyle y = \\frac{77}{16} - \\frac{5 x}{8}$"
          },
          "metadata": {}
        },
        {
          "output_type": "display_data",
          "data": {
            "text/plain": [
              "{x: 183/62, y: 92/31}"
            ]
          },
          "metadata": {}
        },
        {
          "output_type": "display_data",
          "data": {
            "text/plain": [
              "sqrt(98345)/62"
            ],
            "text/latex": "$\\displaystyle \\frac{\\sqrt{98345}}{62}$"
          },
          "metadata": {}
        },
        {
          "output_type": "display_data",
          "data": {
            "text/plain": [
              "<Figure size 640x480 with 1 Axes>"
            ],
            "image/png": "[encoded data removed]"
          },
          "metadata": {}
        }
      ],
      "source": [
        "%matplotlib inline\n",
        "import matplotlib.pyplot as plt\n",
        "import math\n",
        "import sympy as sp\n",
        "\n",
        "\n",
        "x,y = sp.symbols('x, y')\n",
        "\n",
        "\n",
        "def perp_bisector(p1,p2):\n",
        "  ex = ((x-p1[0])**2+(y-p1[1])**2)-((p2[0]-x)**2+(p2[1]-y)**2)\n",
        "  ex = sp.solve(ex,y)\n",
        "  return sp.Eq(y,ex[0])\n",
        "\n",
        "def dist_p2p(p1,p2):\n",
        "  return sp.sqrt((p2[0]-p1[0])**2+(p2[1]-p1[1])**2)\n",
        "\n",
        "\n",
        "\n",
        "x1 = -2; y1 = 4\n",
        "x2 = 2; y2 = -2\n",
        "x3 = 7; y3 = 6\n",
        "\n",
        "\n",
        "expr1 = perp_bisector((x1,y1),(x2,y2))\n",
        "display(expr1)\n",
        "\n",
        "\n",
        "expr2 = perp_bisector((x2,y2),(x3,y3))\n",
        "display(expr2)\n",
        "\n",
        "\n",
        "p = sp.solve([expr1,expr2])\n",
        "display(p)\n",
        "\n",
        "r = dist_p2p((x1,y1),(p[x],p[y]))\n",
        "display(r)\n",
        "\n",
        "\n",
        "plt.scatter(x1,y1,color='k')\n",
        "plt.scatter(x2,y2,color='k')\n",
        "plt.scatter(x3,y3,color='k')\n",
        "plt.scatter(p[x],p[y],color='r')\n",
        "\n",
        "\n",
        "circle = plt.Circle((p[x],p[y]),r,fill=False,ec = 'r')\n",
        "ax = plt.gca()\n",
        "ax.add_patch(circle)\n",
        "\n",
        "\n",
        "plt.axis('equal')\n",
        "plt.grid(color = '0.8')\n",
        "plt.show()"
      ]
    }
  ]
}